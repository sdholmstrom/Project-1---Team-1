{
 "cells": [
  {
   "cell_type": "code",
   "execution_count": 1,
   "id": "7365e31a-7c30-4e33-b711-4e1418f66a2b",
   "metadata": {},
   "outputs": [
    {
     "ename": "ModuleNotFoundError",
     "evalue": "No module named 'dotenv'",
     "output_type": "error",
     "traceback": [
      "\u001b[1;31m---------------------------------------------------------------------------\u001b[0m",
      "\u001b[1;31mModuleNotFoundError\u001b[0m                       Traceback (most recent call last)",
      "Cell \u001b[1;32mIn[1], line 5\u001b[0m\n\u001b[0;32m      3\u001b[0m \u001b[38;5;28;01mimport\u001b[39;00m \u001b[38;5;21;01mos\u001b[39;00m\n\u001b[0;32m      4\u001b[0m \u001b[38;5;28;01mimport\u001b[39;00m \u001b[38;5;21;01mrequests\u001b[39;00m\n\u001b[1;32m----> 5\u001b[0m \u001b[38;5;28;01mfrom\u001b[39;00m \u001b[38;5;21;01mdotenv\u001b[39;00m \u001b[38;5;28;01mimport\u001b[39;00m load_dotenv\n\u001b[0;32m      6\u001b[0m \u001b[38;5;28;01mimport\u001b[39;00m \u001b[38;5;21;01malpaca_trade_api\u001b[39;00m \u001b[38;5;28;01mas\u001b[39;00m \u001b[38;5;21;01mtradeapi\u001b[39;00m\n\u001b[0;32m      8\u001b[0m \u001b[38;5;66;03m# Import S&P 500 stock ticker list\u001b[39;00m\n",
      "\u001b[1;31mModuleNotFoundError\u001b[0m: No module named 'dotenv'"
     ]
    }
   ],
   "source": [
    "# Initial Imports\n",
    "import pandas as pd\n",
    "import os\n",
    "import requests\n",
    "from dotenv import load_dotenv\n",
    "import alpaca_trade_api as tradeapi\n",
    "\n",
    "# Import S&P 500 stock ticker list\n",
    "table=pd.read_html('https://en.wikipedia.org/wiki/List_of_S%26P_500_companies')\n",
    "df_stocks = table[0]\n",
    "df_stocks.head()\n",
    "df_stocks.to_csv('S&P500-Info.csv')\n",
    "df_stocks.to_csv('S&P500-Symbols.csv', columns=['Symbol'])\n",
    "df_tickers = df_stocks['Symbol']\n",
    "df_tickers.head()"
   ]
  },
  {
   "cell_type": "code",
   "execution_count": null,
   "id": "a9dfdc34-9545-4b54-be50-7adac6cfc426",
   "metadata": {},
   "outputs": [],
   "source": [
    "load_dotenv()"
   ]
  },
  {
   "cell_type": "code",
   "execution_count": null,
   "id": "1d0566b9-d640-4287-ad34-0bff3ef3c413",
   "metadata": {},
   "outputs": [],
   "source": [
    "# Import historical price performance for S&P 500 stocks over the last 7 years\n",
    "timeframe = '1Day'\n",
    "start_date = pd.Timestamp('2016-06-01', tz='America/New_York').isoformat()\n",
    "end_date = pd.Timestamp('2023-04-30', tz='America/New_York').isoformat()\n",
    "\n",
    "alpaca_api_key = os.getenv(\"ALPACA_API_KEY\")\n",
    "alpaca_secret_key = os.getenv(\"ALPACA_SECRET_KEY\")\n",
    "\n",
    "alpaca = tradeapi.REST(\n",
    "   alpaca_api_key,\n",
    "    alpaca_secret_key,\n",
    "    api_version=\"v2\"\n",
    ")\n",
    "\n",
    "tickers = df_stocks['Symbol'][:300, 400].tolist()\n",
    "\n",
    "df_sp500_hist = alpaca.get_bars(\n",
    "    tickers,\n",
    "    timeframe,\n",
    "    start = start_date,\n",
    "    end = end_date\n",
    ").df"
   ]
  },
  {
   "cell_type": "code",
   "execution_count": null,
   "id": "f9a348e7-d22f-4c3b-b561-a5cb95644049",
   "metadata": {
    "tags": []
   },
   "outputs": [],
   "source": [
    "df_sp500_hist.head()"
   ]
  },
  {
   "cell_type": "code",
   "execution_count": null,
   "id": "49ed83a4-136a-4fb0-be9d-df9dd2f702d3",
   "metadata": {},
   "outputs": [],
   "source": [
    "# test test tes"
   ]
  },
  {
   "cell_type": "code",
   "execution_count": null,
   "id": "b3fdc05c-a98b-4600-8189-26457db0cf35",
   "metadata": {},
   "outputs": [],
   "source": []
  }
 ],
 "metadata": {
  "kernelspec": {
   "display_name": "Python 3 (ipykernel)",
   "language": "python",
   "name": "python3"
  },
  "language_info": {
   "codemirror_mode": {
    "name": "ipython",
    "version": 3
   },
   "file_extension": ".py",
   "mimetype": "text/x-python",
   "name": "python",
   "nbconvert_exporter": "python",
   "pygments_lexer": "ipython3",
   "version": "3.10.9"
  }
 },
 "nbformat": 4,
 "nbformat_minor": 5
}
