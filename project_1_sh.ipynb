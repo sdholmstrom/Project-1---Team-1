{
 "cells": [
  {
   "cell_type": "code",
   "execution_count": null,
   "id": "7365e31a-7c30-4e33-b711-4e1418f66a2b",
   "metadata": {},
   "outputs": [],
   "source": [
    "# Initial Imports\n",
    "import pandas as pd\n",
    "import os\n",
    "import requests\n",
    "from dotenv import load_dotenv\n",
    "import alpaca_trade_api as tradeapi\n",
    "import numpy as np\n",
    "\n",
    "# Import S&P 500 stock ticker list\n",
    "table=pd.read_html('https://en.wikipedia.org/wiki/List_of_S%26P_500_companies')\n",
    "df_stocks = table[0]\n",
    "df_stocks.head()\n",
    "df_stocks.to_csv('S&P500-Info.csv')\n",
    "df_stocks.to_csv('S&P500-Symbols.csv', columns=['Symbol'])\n",
    "df_tickers = df_stocks['Symbol']\n",
    "df_tickers.head()"
   ]
  },
  {
   "cell_type": "code",
   "execution_count": null,
   "id": "a9dfdc34-9545-4b54-be50-7adac6cfc426",
   "metadata": {},
   "outputs": [],
   "source": [
    "load_dotenv()"
   ]
  },
  {
   "cell_type": "code",
   "execution_count": null,
   "id": "1d0566b9-d640-4287-ad34-0bff3ef3c413",
   "metadata": {},
   "outputs": [],
   "source": [
    "# Import historical price performance for S&P 500 stocks over the last 7 years\n",
    "timeframe = '1Day'\n",
    "start_date = pd.Timestamp('2016-06-01', tz='America/New_York').isoformat()\n",
    "end_date = pd.Timestamp('2023-04-30', tz='America/New_York').isoformat()\n",
    "\n",
    "alpaca_api_key = os.getenv(\"ALPACA_API_KEY\")\n",
    "alpaca_secret_key = os.getenv(\"ALPACA_SECRET_KEY\")\n",
    "\n",
    "alpaca = tradeapi.REST(\n",
    "   alpaca_api_key,\n",
    "    alpaca_secret_key,\n",
    "    api_version=\"v2\"\n",
    ")\n",
    "\n",
    "tickers = df_stocks['Symbol'][:500].tolist()\n",
    "\n",
    "# tickers = df_stocks['Symbol'][101:200].tolist()\n",
    "\n",
    "df_sp500_hist = alpaca.get_bars(\n",
    "    tickers,\n",
    "    timeframe,\n",
    "    start = start_date,\n",
    "    end = end_date\n",
    ").df"
   ]
  },
  {
   "cell_type": "code",
   "execution_count": null,
   "id": "f9a348e7-d22f-4c3b-b561-a5cb95644049",
   "metadata": {
    "tags": []
   },
   "outputs": [],
   "source": [
    "df_sp500_hist"
   ]
  },
  {
   "cell_type": "code",
   "execution_count": null,
   "id": "49ed83a4-136a-4fb0-be9d-df9dd2f702d3",
   "metadata": {},
   "outputs": [],
   "source": [
    "# test test tes"
   ]
  },
  {
   "cell_type": "code",
   "execution_count": null,
   "id": "b3fdc05c-a98b-4600-8189-26457db0cf35",
   "metadata": {},
   "outputs": [],
   "source": [
    "# Date column Normalisation\n",
    "df_sp500_hist = df_sp500_hist.reset_index()\n",
    "\n",
    "df_sp500_hist = df_sp500_hist.rename(columns={\n",
    "    \"timestamp\": \"date\"\n",
    "})\n",
    "\n",
    "#  index_col=\"Date\", infer_datetime_format=True, parse_dates=True)"
   ]
  },
  {
   "cell_type": "code",
   "execution_count": null,
   "id": "d55b956a-3aa0-47f5-bb56-c1cdabdc1d90",
   "metadata": {},
   "outputs": [],
   "source": [
    "# Delete Unnecessary Columns\n",
    "\n",
    "df_sp500_hist = df_sp500_hist.drop(columns=[\"open\", \"high\", \"low\", \"volume\", \"trade_count\", \"vwap\"])\n",
    "df_sp500_hist"
   ]
  },
  {
   "cell_type": "code",
   "execution_count": null,
   "id": "353187fe-be01-46b4-b7c3-d4ae3bdd6d9a",
   "metadata": {},
   "outputs": [],
   "source": [
    "df_sp500_hist.set_index('date', inplace=True)\n"
   ]
  },
  {
   "cell_type": "code",
   "execution_count": null,
   "id": "6295a5e1-9ab6-4443-b6be-47fd1b2c3464",
   "metadata": {},
   "outputs": [],
   "source": [
    "df_sp500_hist.head()"
   ]
  },
  {
   "cell_type": "code",
   "execution_count": null,
   "id": "c1eac662-88a8-4135-a030-a0f52c81318f",
   "metadata": {},
   "outputs": [],
   "source": [
    "df_sp500_hist['Daily Return'] = df_sp500_hist.groupby('symbol')['close'].pct_change()"
   ]
  },
  {
   "cell_type": "code",
   "execution_count": null,
   "id": "1c6d6c7d-2717-475d-9f1f-eb0bd1a68e93",
   "metadata": {},
   "outputs": [],
   "source": [
    "display(df_sp500_hist.head())\n",
    "display(df_sp500_hist.tail())"
   ]
  },
  {
   "cell_type": "code",
   "execution_count": null,
   "id": "92dfd75f-b94e-4383-b750-2e060a8a0ff8",
   "metadata": {},
   "outputs": [],
   "source": [
    "\n",
    "\n",
    "# Calculate Daily Returns\n",
    "# df_sp500_returns = df_sp500.pct_change()\n",
    "# df_sp500_returns.head(100)\n",
    "\n",
    "\n",
    "# Drop nulls\n",
    "df_sp500_hist.isnull()\n",
    "df_sp500_hist.isnull().sum()\n",
    "\n",
    "df_sp500_hist = df_sp500_hist.dropna().copy()\n",
    "df_sp500_hist\n",
    "\n",
    "# Rename `Close` Column to be specific to this portfolio.\n",
    "# df_sp500_returns = df_sp500_returns.rename(columns={\n",
    "#     \"close\": \"daily_returns\"\n",
    "# })\n",
    "\n",
    "df_sp500_hist.head()\n",
    "\n"
   ]
  },
  {
   "cell_type": "code",
   "execution_count": null,
   "id": "0bd5b6bd-e3af-4431-8260-fa1c3506e54d",
   "metadata": {},
   "outputs": [],
   "source": [
    "# Annualized Sharpe Ratios\n",
    "\n",
    "## 1 sharpe_ratios = ((combined_df.mean()-combined_df['rf_rate'].mean()) * 252) / (combined_df.std() * np.sqrt(252))\n",
    "##  sharpe_ratios\n",
    "\n",
    "## 2  sharpe_ratios = (all_returns.mean() * 252) / (all_portfolio_std * np.sqrt(252))\n",
    "## 2 sharpe_ratios.head()\n",
    "\n",
    "# joined_std = joined_portfolios.std()\n",
    "\n",
    "sharpe_ratios = (df_sp500_hist.mean() * 252) / (df_sp500_hist.std * np.sqrt(252))\n",
    "sharpe_ratios"
   ]
  },
  {
   "cell_type": "code",
   "execution_count": null,
   "id": "cd62abd6-443b-49a5-9c67-5956a315776d",
   "metadata": {},
   "outputs": [],
   "source": []
  }
 ],
 "metadata": {
  "kernelspec": {
   "display_name": "Python 3 (ipykernel)",
   "language": "python",
   "name": "python3"
  },
  "language_info": {
   "codemirror_mode": {
    "name": "ipython",
    "version": 3
   },
   "file_extension": ".py",
   "mimetype": "text/x-python",
   "name": "python",
   "nbconvert_exporter": "python",
   "pygments_lexer": "ipython3",
   "version": "3.10.10"
  }
 },
 "nbformat": 4,
 "nbformat_minor": 5
}
