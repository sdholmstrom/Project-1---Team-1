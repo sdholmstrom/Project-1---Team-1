{
 "cells": [
  {
   "cell_type": "code",
   "execution_count": 1,
   "id": "7365e31a-7c30-4e33-b711-4e1418f66a2b",
   "metadata": {},
   "outputs": [
    {
     "data": {
      "text/plain": [
       "0     MMM\n",
       "1     AOS\n",
       "2     ABT\n",
       "3    ABBV\n",
       "4     ACN\n",
       "Name: Symbol, dtype: object"
      ]
     },
     "execution_count": 1,
     "metadata": {},
     "output_type": "execute_result"
    }
   ],
   "source": [
    "# Initial Imports\n",
    "import pandas as pd\n",
    "import os\n",
    "import requests\n",
    "from dotenv import load_dotenv\n",
    "import alpaca_trade_api as tradeapi\n",
    "\n",
    "# Import S&P 500 stock ticker list\n",
    "table=pd.read_html('https://en.wikipedia.org/wiki/List_of_S%26P_500_companies')\n",
    "df_stocks = table[0]\n",
    "df_stocks.head()\n",
    "df_stocks.to_csv('S&P500-Info.csv')\n",
    "df_stocks.to_csv('S&P500-Symbols.csv', columns=['Symbol'])\n",
    "df_tickers = df_stocks['Symbol']\n",
    "df_tickers.head()"
   ]
  },
  {
   "cell_type": "code",
   "execution_count": 2,
   "id": "a9dfdc34-9545-4b54-be50-7adac6cfc426",
   "metadata": {},
   "outputs": [
    {
     "data": {
      "text/plain": [
       "True"
      ]
     },
     "execution_count": 2,
     "metadata": {},
     "output_type": "execute_result"
    }
   ],
   "source": [
    "load_dotenv()"
   ]
  },
  {
   "cell_type": "code",
   "execution_count": 7,
   "id": "1d0566b9-d640-4287-ad34-0bff3ef3c413",
   "metadata": {},
   "outputs": [],
   "source": [
    "# Import historical price performance for S&P 500 stocks over the last 7 years\n",
    "timeframe = '1Day'\n",
    "start_date = pd.Timestamp('2016-06-01', tz='America/New_York').isoformat()\n",
    "end_date = pd.Timestamp('2023-04-30', tz='America/New_York').isoformat()\n",
    "\n",
    "alpaca_api_key = os.getenv(\"ALPACA_API_KEY\")\n",
    "alpaca_secret_key = os.getenv(\"ALPACA_SECRET_KEY\")\n",
    "\n",
    "alpaca = tradeapi.REST(\n",
    "   alpaca_api_key,\n",
    "    alpaca_secret_key,\n",
    "    api_version=\"v2\"\n",
    ")\n",
    "\n",
    "tickers = df_stocks['Symbol'][:100].tolist()\n",
    "\n",
    "df_sp500_hist = alpaca.get_bars(\n",
    "    tickers,\n",
    "    timeframe,\n",
    "    start = start_date,\n",
    "    end = end_date\n",
    ").df"
   ]
  },
  {
   "cell_type": "code",
   "execution_count": 8,
   "id": "f9a348e7-d22f-4c3b-b561-a5cb95644049",
   "metadata": {
    "tags": []
   },
   "outputs": [
    {
     "data": {
      "text/html": [
       "<div>\n",
       "<style scoped>\n",
       "    .dataframe tbody tr th:only-of-type {\n",
       "        vertical-align: middle;\n",
       "    }\n",
       "\n",
       "    .dataframe tbody tr th {\n",
       "        vertical-align: top;\n",
       "    }\n",
       "\n",
       "    .dataframe thead th {\n",
       "        text-align: right;\n",
       "    }\n",
       "</style>\n",
       "<table border=\"1\" class=\"dataframe\">\n",
       "  <thead>\n",
       "    <tr style=\"text-align: right;\">\n",
       "      <th></th>\n",
       "      <th>open</th>\n",
       "      <th>high</th>\n",
       "      <th>low</th>\n",
       "      <th>close</th>\n",
       "      <th>volume</th>\n",
       "      <th>trade_count</th>\n",
       "      <th>vwap</th>\n",
       "      <th>symbol</th>\n",
       "    </tr>\n",
       "    <tr>\n",
       "      <th>timestamp</th>\n",
       "      <th></th>\n",
       "      <th></th>\n",
       "      <th></th>\n",
       "      <th></th>\n",
       "      <th></th>\n",
       "      <th></th>\n",
       "      <th></th>\n",
       "      <th></th>\n",
       "    </tr>\n",
       "  </thead>\n",
       "  <tbody>\n",
       "    <tr>\n",
       "      <th>2016-06-01 04:00:00+00:00</th>\n",
       "      <td>31.94</td>\n",
       "      <td>32.26</td>\n",
       "      <td>31.7300</td>\n",
       "      <td>31.95</td>\n",
       "      <td>6416243</td>\n",
       "      <td>42250</td>\n",
       "      <td>31.952436</td>\n",
       "      <td>AAL</td>\n",
       "    </tr>\n",
       "    <tr>\n",
       "      <th>2016-06-02 04:00:00+00:00</th>\n",
       "      <td>31.67</td>\n",
       "      <td>32.07</td>\n",
       "      <td>31.5799</td>\n",
       "      <td>31.67</td>\n",
       "      <td>6813295</td>\n",
       "      <td>40265</td>\n",
       "      <td>31.803351</td>\n",
       "      <td>AAL</td>\n",
       "    </tr>\n",
       "    <tr>\n",
       "      <th>2016-06-03 04:00:00+00:00</th>\n",
       "      <td>31.59</td>\n",
       "      <td>31.60</td>\n",
       "      <td>30.3700</td>\n",
       "      <td>30.81</td>\n",
       "      <td>12424133</td>\n",
       "      <td>67650</td>\n",
       "      <td>30.729925</td>\n",
       "      <td>AAL</td>\n",
       "    </tr>\n",
       "    <tr>\n",
       "      <th>2016-06-06 04:00:00+00:00</th>\n",
       "      <td>30.77</td>\n",
       "      <td>31.30</td>\n",
       "      <td>30.3800</td>\n",
       "      <td>31.26</td>\n",
       "      <td>8335439</td>\n",
       "      <td>53642</td>\n",
       "      <td>30.976306</td>\n",
       "      <td>AAL</td>\n",
       "    </tr>\n",
       "    <tr>\n",
       "      <th>2016-06-07 04:00:00+00:00</th>\n",
       "      <td>31.46</td>\n",
       "      <td>32.87</td>\n",
       "      <td>31.1000</td>\n",
       "      <td>32.36</td>\n",
       "      <td>12424206</td>\n",
       "      <td>72297</td>\n",
       "      <td>32.405641</td>\n",
       "      <td>AAL</td>\n",
       "    </tr>\n",
       "  </tbody>\n",
       "</table>\n",
       "</div>"
      ],
      "text/plain": [
       "                            open   high      low  close    volume  \\\n",
       "timestamp                                                           \n",
       "2016-06-01 04:00:00+00:00  31.94  32.26  31.7300  31.95   6416243   \n",
       "2016-06-02 04:00:00+00:00  31.67  32.07  31.5799  31.67   6813295   \n",
       "2016-06-03 04:00:00+00:00  31.59  31.60  30.3700  30.81  12424133   \n",
       "2016-06-06 04:00:00+00:00  30.77  31.30  30.3800  31.26   8335439   \n",
       "2016-06-07 04:00:00+00:00  31.46  32.87  31.1000  32.36  12424206   \n",
       "\n",
       "                           trade_count       vwap symbol  \n",
       "timestamp                                                 \n",
       "2016-06-01 04:00:00+00:00        42250  31.952436    AAL  \n",
       "2016-06-02 04:00:00+00:00        40265  31.803351    AAL  \n",
       "2016-06-03 04:00:00+00:00        67650  30.729925    AAL  \n",
       "2016-06-06 04:00:00+00:00        53642  30.976306    AAL  \n",
       "2016-06-07 04:00:00+00:00        72297  32.405641    AAL  "
      ]
     },
     "execution_count": 8,
     "metadata": {},
     "output_type": "execute_result"
    }
   ],
   "source": [
    "df_sp500_hist.head()"
   ]
  },
  {
   "cell_type": "code",
   "execution_count": null,
   "id": "49ed83a4-136a-4fb0-be9d-df9dd2f702d3",
   "metadata": {},
   "outputs": [],
   "source": [
    "# test test tes"
   ]
  },
  {
   "cell_type": "code",
   "execution_count": null,
   "id": "b3fdc05c-a98b-4600-8189-26457db0cf35",
   "metadata": {},
   "outputs": [],
   "source": []
  }
 ],
 "metadata": {
  "kernelspec": {
   "display_name": "Python 3 (ipykernel)",
   "language": "python",
   "name": "python3"
  },
  "language_info": {
   "codemirror_mode": {
    "name": "ipython",
    "version": 3
   },
   "file_extension": ".py",
   "mimetype": "text/x-python",
   "name": "python",
   "nbconvert_exporter": "python",
   "pygments_lexer": "ipython3",
   "version": "3.7.13"
  }
 },
 "nbformat": 4,
 "nbformat_minor": 5
}
